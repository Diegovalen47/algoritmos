{
 "cells": [
  {
   "cell_type": "code",
   "execution_count": 27,
   "metadata": {
    "collapsed": true
   },
   "outputs": [
    {
     "name": "stdout",
     "output_type": "stream",
     "text": [
      "288\n"
     ]
    }
   ],
   "source": [
    "from itertools import permutations\n",
    "C = int(input())\n",
    "for _ in range(0, C):\n",
    "  case = input()\n",
    "  data = list(map(lambda x: int(x), case.split()))\n",
    "  n = data[0]\n",
    "  numbers = data[1:]\n",
    "  cont = 0\n",
    "  p = list(map(lambda x: list(x), list(permutations(numbers))))\n",
    "  for item in p:\n",
    "    if sum(item[0:4]) == n and sum(item[3:7]) == n and sum(item[6:], item[0]) == n:\n",
    "      cont += 1\n",
    "  print(cont)"
   ]
  },
  {
   "cell_type": "code",
   "execution_count": 8,
   "outputs": [
    {
     "name": "stdout",
     "output_type": "stream",
     "text": [
      "1\n"
     ]
    }
   ],
   "source": [
    "from itertools import product\n",
    "C = int(input())\n",
    "array = [0, 1]\n",
    "for _ in range(0, C):\n",
    "  m, *times = map(lambda x: int(x), input().split())\n",
    "  time = []\n",
    "  flag = False\n",
    "  for sub in product(array, repeat=len(times)):\n",
    "    suma = 0\n",
    "    for a,b in zip(times, sub):\n",
    "      suma = suma + (a*b)\n",
    "    if suma == m:\n",
    "      flag = True\n",
    "      break\n",
    "    if suma > m:\n",
    "      time.append(m)\n",
    "    else:\n",
    "      time.append(m - suma)\n",
    "  if flag:\n",
    "    print(0)\n",
    "  else:\n",
    "    print(min(time))"
   ],
   "metadata": {
    "collapsed": false
   }
  },
  {
   "cell_type": "code",
   "execution_count": 25,
   "outputs": [
    {
     "name": "stdout",
     "output_type": "stream",
     "text": [
      "159\n",
      "2\n",
      "imposible\n"
     ]
    }
   ],
   "source": [
    "from itertools import permutations\n",
    "P = int(input())\n",
    "for _ in range(0, P):\n",
    "  C = int(input())\n",
    "  matriz = []\n",
    "  for _ in range(0, C):\n",
    "    matriz.append(list(map(lambda x: None if x==\"n.a\" else int(x), input().split())))\n",
    "  mini = 999999999\n",
    "  p = list(map(lambda x: list(x), list(permutations([x for x in range(0, C)]))))\n",
    "  imposible_so_far = True\n",
    "  for item in p:\n",
    "    suma = 0\n",
    "    no_llega = False\n",
    "    for i in range(1, C):\n",
    "      element = matriz[item[i-1]][item[i]]\n",
    "      if element is None:\n",
    "        no_llega = True\n",
    "        break\n",
    "      suma += element/10\n",
    "    if no_llega:\n",
    "      continue\n",
    "    imposible_so_far = False\n",
    "    if suma < mini and not imposible_so_far:\n",
    "      mini = suma\n",
    "  if imposible_so_far:\n",
    "    print(\"imposible\")\n",
    "  else:\n",
    "    print(round(mini))"
   ],
   "metadata": {
    "collapsed": false
   }
  },
  {
   "cell_type": "code",
   "execution_count": 19,
   "outputs": [
    {
     "name": "stdout",
     "output_type": "stream",
     "text": [
      "Heredero\n",
      "No\n",
      "Heredero\n",
      "No\n",
      "Heredero\n"
     ]
    }
   ],
   "source": [
    "from itertools import permutations\n",
    "C = int(input())\n",
    "for _ in range(0, C):\n",
    "  n = input()\n",
    "  if len(n)%2 != 0:\n",
    "    print(\"No\")\n",
    "    continue\n",
    "  flag = False\n",
    "  p = permutations(n)\n",
    "  for item in p:\n",
    "    first_half = int(\"\".join(item[:(len(n)//2)]))\n",
    "    second_half = int(\"\".join(item[(len(n)//2):]))\n",
    "    if first_half*second_half == int(n):\n",
    "      flag = True\n",
    "      break\n",
    "  if flag:\n",
    "    print(\"Heredero\")\n",
    "  else:\n",
    "    print(\"No\")"
   ],
   "metadata": {
    "collapsed": false
   }
  },
  {
   "cell_type": "code",
   "execution_count": 35,
   "outputs": [
    {
     "name": "stdout",
     "output_type": "stream",
     "text": [
      "80654321 14 Z A\n",
      "81654321 20 C A\n",
      "82654321 3 A A\n",
      "83654321 9 D A\n",
      "84654321 15 S A\n",
      "85654321 21 K A\n",
      "86654321 4 G A\n",
      "87654321 10 X A\n",
      "88654321 16 Q A\n",
      "89654321 22 E A\n",
      "1\n",
      "87054321 11 B A\n",
      "87154321 7 F A\n",
      "87254321 3 A A\n",
      "87354321 22 E A\n",
      "87454321 18 H A\n",
      "87554321 14 Z A\n",
      "87654321 10 X A\n",
      "87754321 6 Y A\n",
      "87854321 2 W A\n",
      "87954321 21 K A\n",
      "1\n",
      "87604321 12 N A\n",
      "87614321 7 F A\n",
      "87624321 2 W A\n",
      "87634321 20 C A\n",
      "87644321 15 S A\n",
      "87654321 10 X A\n",
      "87664321 5 M A\n",
      "87674321 0 T A\n",
      "87684321 18 H A\n",
      "87694321 13 J A\n",
      "0\n",
      "87650321 12 N A\n",
      "87651321 0 T A\n",
      "87652321 11 B A\n",
      "87653321 22 E A\n",
      "87654321 10 X A\n",
      "87655321 21 K A\n",
      "87656321 9 D A\n",
      "87657321 20 C A\n",
      "87658321 8 P A\n",
      "87659321 19 L A\n",
      "0\n"
     ]
    }
   ],
   "source": [
    "from itertools import product\n",
    "C = int(input())\n",
    "array = [0, 1, 2, 3, 4, 5, 6, 7, 8, 9]\n",
    "mapping = { 0:\"T\", 1:\"R\", 2:\"W\", 3:\"A\", 4:\"G\", 5:\"M\", 6:\"Y\", 7:\"F\", 8:\"P\", 9:\"D\", 10:\"X\", 11:\"B\", 12:\"N\", 13:\"J\", 14:\"Z\", 15:\"S\", 16:\"Q\", 17:\"V\", 18:\"H\", 19:\"L\", 20:\"C\", 21:\"K\", 22:\"E\"}\n",
    "for _ in range(0, C):\n",
    "  *dni, v = [i for i in input()]\n",
    "  unknown_digits = [x for x in range(0, len(dni)) if dni[x] == \"?\"]\n",
    "  combs = product(array, repeat=len(unknown_digits))\n",
    "  cont = 0\n",
    "  for item in combs:\n",
    "    idx = 0\n",
    "    for index in unknown_digits:\n",
    "      dni[index] = str(item[idx])\n",
    "      idx += 1\n",
    "    if mapping[(int(\"\".join(dni)))%23] == v:\n",
    "      cont += 1\n",
    "  print(cont)"
   ],
   "metadata": {
    "collapsed": false
   }
  },
  {
   "cell_type": "markdown",
   "source": [
    "3\n",
    "???33333B\n",
    "3???3333B\n",
    "33???333B"
   ],
   "metadata": {
    "collapsed": false
   }
  },
  {
   "cell_type": "code",
   "execution_count": 23,
   "outputs": [
    {
     "name": "stdout",
     "output_type": "stream",
     "text": [
      "['1', '2', '3', '4']\n",
      "C\n"
     ]
    }
   ],
   "source": [
    "string = \"1234C\"\n",
    "*dni, v = [i for i in string]\n",
    "print(dni)\n",
    "print(v)\n"
   ],
   "metadata": {
    "collapsed": false
   }
  },
  {
   "cell_type": "code",
   "execution_count": 1,
   "outputs": [
    {
     "data": {
      "text/plain": "123"
     },
     "execution_count": 1,
     "metadata": {},
     "output_type": "execute_result"
    }
   ],
   "source": [
    "int(\"0123\")"
   ],
   "metadata": {
    "collapsed": false
   }
  },
  {
   "cell_type": "code",
   "execution_count": 4,
   "outputs": [
    {
     "name": "stdout",
     "output_type": "stream",
     "text": [
      "-1\n",
      "-1\n",
      "-1\n"
     ]
    }
   ],
   "source": [
    "def valor_residuo(L):\n",
    "    diccionario = {0:'T',1:'R',2:'W',3:'A',4:'G',5:'M',6:'Y',7:'F',8:'P',9:'D',10:'X',11:'B',12:'N',13:'J',14:'Z',15:'S',16:'Q',17:'V',18:'H',19:'L',20:'C',21:'K',22:'E'}\n",
    "    for key, value in diccionario.items():\n",
    "        if value == L:\n",
    "            return key\n",
    "    return None\n",
    "\n",
    "def faltante(digits,residuo):\n",
    "    total = sum(int(d) for d in digits if d != '?')\n",
    "    for i in range(10):\n",
    "        if (total + i) % 23 == residuo:\n",
    "            return str(i)\n",
    "    return -1\n",
    "\n",
    "C = int(input())\n",
    "for i in range(C):\n",
    "    dni = input()\n",
    "    DNI=list(dni)\n",
    "    letra=DNI.pop(-1)\n",
    "    residuo=valor_residuo(letra)\n",
    "    print(faltante(DNI, residuo))"
   ],
   "metadata": {
    "collapsed": false
   }
  },
  {
   "cell_type": "code",
   "execution_count": null,
   "outputs": [],
   "source": [],
   "metadata": {
    "collapsed": false
   }
  }
 ],
 "metadata": {
  "kernelspec": {
   "display_name": "Python 3",
   "language": "python",
   "name": "python3"
  },
  "language_info": {
   "codemirror_mode": {
    "name": "ipython",
    "version": 2
   },
   "file_extension": ".py",
   "mimetype": "text/x-python",
   "name": "python",
   "nbconvert_exporter": "python",
   "pygments_lexer": "ipython2",
   "version": "2.7.6"
  }
 },
 "nbformat": 4,
 "nbformat_minor": 0
}
