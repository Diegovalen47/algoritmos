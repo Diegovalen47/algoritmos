{
 "cells": [
  {
   "cell_type": "code",
   "execution_count": null,
   "metadata": {
    "collapsed": true
   },
   "outputs": [],
   "source": [
    "def mcm(a, b):\n",
    "    m, n = a, b\n",
    "    while n != 0:\n",
    "        m, n = n, m%n\n",
    "    return a*b//m\n",
    "from functools import reduce\n",
    "N = int(input())\n",
    "for i in range(0, N):\n",
    "    c = list(map(lambda x: int(x), input().strip().split()))\n",
    "    print(reduce(mcm, c))"
   ]
  },
  {
   "cell_type": "code",
   "execution_count": 20,
   "outputs": [
    {
     "name": "stdout",
     "output_type": "stream",
     "text": [
      "1\n"
     ]
    }
   ],
   "source": [
    "from math import sqrt\n",
    "N = int(input())\n",
    "for i in range(0, N):\n",
    "    c = int(input())\n",
    "    if c == 1:\n",
    "        print(1)\n",
    "        continue\n",
    "    cont = 2\n",
    "    for i in range(2, int(sqrt(c)+1)):\n",
    "        if c%i == 0:\n",
    "            if i*i != c:\n",
    "                cont += 2\n",
    "            else:\n",
    "                cont += 1\n",
    "    print(cont)"
   ],
   "metadata": {
    "collapsed": false
   }
  },
  {
   "cell_type": "code",
   "execution_count": 1,
   "outputs": [
    {
     "name": "stdout",
     "output_type": "stream",
     "text": [
      "0\n",
      "1\n",
      "2\n",
      "2\n",
      "2\n"
     ]
    }
   ],
   "source": [
    "from math import log\n",
    "C = int(input())\n",
    "cases = []\n",
    "for _ in range(0, C):\n",
    "    cases.append(int(input()))\n",
    "maxi = max(cases)\n",
    "no_prime_list = set()\n",
    "lista = {}\n",
    "cont = 0\n",
    "for i in range(2, maxi+1):\n",
    "    if i not in no_prime_list:\n",
    "        cont += 1\n",
    "        for j in range(i*i, maxi+1, i):\n",
    "            no_prime_list.add(j)\n",
    "    lista[i] = cont\n",
    "for i in cases:\n",
    "    print(round(lista[i] - i/log(i)))"
   ],
   "metadata": {
    "collapsed": false
   }
  },
  {
   "cell_type": "code",
   "execution_count": 3,
   "outputs": [
    {
     "name": "stdout",
     "output_type": "stream",
     "text": [
      "7\n",
      "3\n",
      "18\n",
      "12\n"
     ]
    }
   ],
   "source": [
    "def mcd(a, b):\n",
    "    m, n = a, b\n",
    "    while n != 0:\n",
    "        m, n = n, m%n\n",
    "    return m\n",
    "from functools import reduce\n",
    "N = int(input())\n",
    "for _ in range(0, N):\n",
    "    c = list(map(lambda x: int(x), input().strip().split()))\n",
    "    maxCD = reduce(mcd, c)\n",
    "    print(int(sum(list(map(lambda x: x/maxCD, c)))))"
   ],
   "metadata": {
    "collapsed": false
   }
  },
  {
   "cell_type": "code",
   "execution_count": 18,
   "outputs": [
    {
     "name": "stdout",
     "output_type": "stream",
     "text": [
      "15\n",
      "142\n",
      "985\n",
      "7871\n",
      "127\n"
     ]
    }
   ],
   "source": [
    "from math import sqrt\n",
    "def cant_div(n):\n",
    "    if n == 1:\n",
    "        return 1\n",
    "    cont = 2\n",
    "    for i in range(2, int(sqrt(n))+1):\n",
    "        if n%i == 0:\n",
    "            if i*i != n:\n",
    "                cont += 2\n",
    "            else:\n",
    "                cont += 1\n",
    "    return cont\n",
    "N = int(input())\n",
    "for _ in range(0, N):\n",
    "    c = list(map(lambda x: int(x), input().strip().split()))\n",
    "    n_i = 1\n",
    "    cont = 0\n",
    "    while n_i <= c[1]:\n",
    "        if n_i >= c[0]:\n",
    "            cont += 1\n",
    "        n_i = n_i + cant_div(n_i)\n",
    "    print(cont)"
   ],
   "metadata": {
    "collapsed": false
   }
  },
  {
   "cell_type": "code",
   "execution_count": 9,
   "outputs": [],
   "source": [],
   "metadata": {
    "collapsed": false
   }
  }
 ],
 "metadata": {
  "kernelspec": {
   "display_name": "Python 3",
   "language": "python",
   "name": "python3"
  },
  "language_info": {
   "codemirror_mode": {
    "name": "ipython",
    "version": 2
   },
   "file_extension": ".py",
   "mimetype": "text/x-python",
   "name": "python",
   "nbconvert_exporter": "python",
   "pygments_lexer": "ipython2",
   "version": "2.7.6"
  }
 },
 "nbformat": 4,
 "nbformat_minor": 0
}
