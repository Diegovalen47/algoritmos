{
 "cells": [
  {
   "cell_type": "code",
   "execution_count": 40,
   "outputs": [
    {
     "name": "stdout",
     "output_type": "stream",
     "text": [
      "1\n",
      "82\n",
      "906\n"
     ]
    }
   ],
   "source": [
    "#import math\n",
    "#c = int(input())\n",
    "#criba = {i+2:True for i in range(99998)}\n",
    "#errors = dict()\n",
    "#numbers = set()\n",
    "#for i in range(c):\n",
    "#  primos = 0\n",
    "#  n=int(input())\n",
    "#  if n in numbers:\n",
    "#    print(errors[n])\n",
    "#    continue\n",
    "#  for index in range(2, n+1):\n",
    "#    if(criba[index]):\n",
    "#      primos+=1\n",
    "#      if(index**2<=n):\n",
    "#        for subIndex in range(index**2,n+1,index):\n",
    "#          criba[subIndex]=False\n",
    "#  e = round(primos - (n/math.log(n)))\n",
    "#  errors[n] = e\n",
    "#  #errors[n] = primos\n",
    "#  numbers.add(n)\n",
    "#  print(e)\n",
    "\n",
    "from math import log\n",
    "c = int(input())\n",
    "primos = dict()\n",
    "noPrimos = set()\n",
    "casesL = []\n",
    "for i in range(c):\n",
    "  casesL.append(int(input()))\n",
    "primosAcu = 0\n",
    "caseMax = max(casesL)\n",
    "for i in range(2, caseMax+1):\n",
    "  if i not in noPrimos:\n",
    "    primosAcu += 1\n",
    "    for subIndex in range(i**2, caseMax+1, i):\n",
    "      noPrimos.add(subIndex)\n",
    "  primos[i] = primosAcu\n",
    "for num in casesL:\n",
    "  print(round(primos[num] - (num/log(num))))\n",
    "\n",
    "\n",
    "\n"
   ],
   "metadata": {
    "collapsed": false
   }
  },
  {
   "cell_type": "code",
   "execution_count": null,
   "outputs": [],
   "source": [],
   "metadata": {
    "collapsed": false
   }
  }
 ],
 "metadata": {
  "kernelspec": {
   "display_name": "Python 3",
   "language": "python",
   "name": "python3"
  },
  "language_info": {
   "codemirror_mode": {
    "name": "ipython",
    "version": 2
   },
   "file_extension": ".py",
   "mimetype": "text/x-python",
   "name": "python",
   "nbconvert_exporter": "python",
   "pygments_lexer": "ipython2",
   "version": "2.7.6"
  }
 },
 "nbformat": 4,
 "nbformat_minor": 0
}
